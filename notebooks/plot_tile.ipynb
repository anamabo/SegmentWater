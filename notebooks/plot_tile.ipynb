{
 "cells": [
  {
   "cell_type": "code",
   "execution_count": 1,
   "id": "705537b8-bd74-4630-805b-f57a3e8d11dd",
   "metadata": {},
   "outputs": [],
   "source": [
    "import ee\n",
    "import os\n",
    "import geemap\n",
    "import time"
   ]
  },
  {
   "cell_type": "code",
   "execution_count": 2,
   "id": "4096052e-7788-47b1-9967-eac91e7f0c49",
   "metadata": {},
   "outputs": [
    {
     "data": {
      "text/html": [
       "\n",
       "            <style>\n",
       "                .geemap-dark {\n",
       "                    --jp-widgets-color: white;\n",
       "                    --jp-widgets-label-color: white;\n",
       "                    --jp-ui-font-color1: white;\n",
       "                    --jp-layout-color2: #454545;\n",
       "                    background-color: #383838;\n",
       "                }\n",
       "\n",
       "                .geemap-dark .jupyter-button {\n",
       "                    --jp-layout-color3: #383838;\n",
       "                }\n",
       "\n",
       "                .geemap-colab {\n",
       "                    background-color: var(--colab-primary-surface-color, white);\n",
       "                }\n",
       "\n",
       "                .geemap-colab .jupyter-button {\n",
       "                    --jp-layout-color3: var(--colab-primary-surface-color, white);\n",
       "                }\n",
       "            </style>\n",
       "            "
      ],
      "text/plain": [
       "<IPython.core.display.HTML object>"
      ]
     },
     "metadata": {},
     "output_type": "display_data"
    }
   ],
   "source": [
    "def get_sentinel_image(\n",
    "        longitude: float,\n",
    "        latitude: float,\n",
    "        tile_size: int,\n",
    "        init_date: str,\n",
    "        end_date: str,\n",
    "):\n",
    "    center = ee.Geometry.Point([longitude, latitude])\n",
    "\n",
    "    # Create a buffer around the center point to get a square tile\n",
    "    tile = center.buffer(tile_size / 2).bounds()\n",
    "\n",
    "    # Load the Sentinel-2 image collection\n",
    "    sentinel2 = ee.ImageCollection('COPERNICUS/S2') \\\n",
    "        .filterBounds(tile) \\\n",
    "        .filterDate(init_date, end_date) \\\n",
    "        .filter(ee.Filter.lt('CLOUDY_PIXEL_PERCENTAGE', 10)) \\\n",
    "        .median()  # Take the median to reduce cloud cover\n",
    "\n",
    "    # Select the desired bands (e.g., B4, B3, B2 for true color)\n",
    "    sentinel2_rgb = sentinel2.select(['B4', 'B3', 'B2'])\n",
    "    return tile, sentinel2_rgb\n",
    "\n"
   ]
  },
  {
   "cell_type": "code",
   "execution_count": 4,
   "id": "1f6d72b9-ffbd-431f-94d2-aa798547605c",
   "metadata": {},
   "outputs": [
    {
     "data": {
      "text/html": [
       "\n",
       "            <style>\n",
       "                .geemap-dark {\n",
       "                    --jp-widgets-color: white;\n",
       "                    --jp-widgets-label-color: white;\n",
       "                    --jp-ui-font-color1: white;\n",
       "                    --jp-layout-color2: #454545;\n",
       "                    background-color: #383838;\n",
       "                }\n",
       "\n",
       "                .geemap-dark .jupyter-button {\n",
       "                    --jp-layout-color3: #383838;\n",
       "                }\n",
       "\n",
       "                .geemap-colab {\n",
       "                    background-color: var(--colab-primary-surface-color, white);\n",
       "                }\n",
       "\n",
       "                .geemap-colab .jupyter-button {\n",
       "                    --jp-layout-color3: var(--colab-primary-surface-color, white);\n",
       "                }\n",
       "            </style>\n",
       "            "
      ],
      "text/plain": [
       "<IPython.core.display.HTML object>"
      ]
     },
     "metadata": {},
     "output_type": "display_data"
    }
   ],
   "source": [
    "root_path = \"/Users/anamabo/Documents/SegmentWater/\""
   ]
  },
  {
   "cell_type": "code",
   "execution_count": 5,
   "id": "be5be4eb-4797-49dd-9198-dbd67fe54a87",
   "metadata": {},
   "outputs": [
    {
     "data": {
      "text/html": [
       "\n",
       "            <style>\n",
       "                .geemap-dark {\n",
       "                    --jp-widgets-color: white;\n",
       "                    --jp-widgets-label-color: white;\n",
       "                    --jp-ui-font-color1: white;\n",
       "                    --jp-layout-color2: #454545;\n",
       "                    background-color: #383838;\n",
       "                }\n",
       "\n",
       "                .geemap-dark .jupyter-button {\n",
       "                    --jp-layout-color3: #383838;\n",
       "                }\n",
       "\n",
       "                .geemap-colab {\n",
       "                    background-color: var(--colab-primary-surface-color, white);\n",
       "                }\n",
       "\n",
       "                .geemap-colab .jupyter-button {\n",
       "                    --jp-layout-color3: var(--colab-primary-surface-color, white);\n",
       "                }\n",
       "            </style>\n",
       "            "
      ],
      "text/plain": [
       "<IPython.core.display.HTML object>"
      ]
     },
     "metadata": {},
     "output_type": "display_data"
    }
   ],
   "source": [
    "service_account = \"gee-961@genial-airway-429107-d4.iam.gserviceaccount.com\"\n",
    "sa_json_file = os.path.join(root_path, \"genial-airway-429107-d4-c315ddc9e712.json\")\n",
    "project_id = \"genial-airway-429107-d4\"\n",
    "credentials = ee.ServiceAccountCredentials(service_account, sa_json_file)\n",
    "ee.Initialize(credentials, project=project_id)"
   ]
  },
  {
   "cell_type": "code",
   "execution_count": 8,
   "id": "9940a29e-4111-48bf-9fd4-8fd64e35a86c",
   "metadata": {},
   "outputs": [
    {
     "data": {
      "text/html": [
       "\n",
       "            <style>\n",
       "                .geemap-dark {\n",
       "                    --jp-widgets-color: white;\n",
       "                    --jp-widgets-label-color: white;\n",
       "                    --jp-ui-font-color1: white;\n",
       "                    --jp-layout-color2: #454545;\n",
       "                    background-color: #383838;\n",
       "                }\n",
       "\n",
       "                .geemap-dark .jupyter-button {\n",
       "                    --jp-layout-color3: #383838;\n",
       "                }\n",
       "\n",
       "                .geemap-colab {\n",
       "                    background-color: var(--colab-primary-surface-color, white);\n",
       "                }\n",
       "\n",
       "                .geemap-colab .jupyter-button {\n",
       "                    --jp-layout-color3: var(--colab-primary-surface-color, white);\n",
       "                }\n",
       "            </style>\n",
       "            "
      ],
      "text/plain": [
       "<IPython.core.display.HTML object>"
      ]
     },
     "metadata": {},
     "output_type": "display_data"
    }
   ],
   "source": [
    "longitude = 5.779670\n",
    "latitude = 51.502357\n",
    "tile_size = 2500  # tile size in meters\n",
    "init_date = \"2023-02-01\"\n",
    "end_date = \"2023-03-31\"\n",
    "\n",
    "image_tile, sentinel_image = get_sentinel_image(\n",
    "    longitude=longitude,\n",
    "    latitude=latitude,\n",
    "    tile_size=tile_size,\n",
    "    init_date=init_date,\n",
    "    end_date=end_date,\n",
    ")\n",
    "\n",
    "clipped_image = sentinel_image.clip(image_tile)"
   ]
  },
  {
   "cell_type": "code",
   "execution_count": 9,
   "id": "1c8fda4f-6e89-4045-88eb-ae1856530b04",
   "metadata": {},
   "outputs": [
    {
     "data": {
      "text/html": [
       "\n",
       "            <style>\n",
       "                .geemap-dark {\n",
       "                    --jp-widgets-color: white;\n",
       "                    --jp-widgets-label-color: white;\n",
       "                    --jp-ui-font-color1: white;\n",
       "                    --jp-layout-color2: #454545;\n",
       "                    background-color: #383838;\n",
       "                }\n",
       "\n",
       "                .geemap-dark .jupyter-button {\n",
       "                    --jp-layout-color3: #383838;\n",
       "                }\n",
       "\n",
       "                .geemap-colab {\n",
       "                    background-color: var(--colab-primary-surface-color, white);\n",
       "                }\n",
       "\n",
       "                .geemap-colab .jupyter-button {\n",
       "                    --jp-layout-color3: var(--colab-primary-surface-color, white);\n",
       "                }\n",
       "            </style>\n",
       "            "
      ],
      "text/plain": [
       "<IPython.core.display.HTML object>"
      ]
     },
     "metadata": {},
     "output_type": "display_data"
    },
    {
     "data": {
      "application/vnd.jupyter.widget-view+json": {
       "model_id": "0350571ec62d4a839ecdb880d20cf700",
       "version_major": 2,
       "version_minor": 0
      },
      "text/plain": [
       "Map(center=[51.50235869326241, 5.779698950904976], controls=(WidgetControl(options=['position', 'transparent_b…"
      ]
     },
     "execution_count": 9,
     "metadata": {},
     "output_type": "execute_result"
    }
   ],
   "source": [
    "# Define visualization parameters\n",
    "vis_params = {\n",
    "    'min': 0,\n",
    "    'max': 3000,\n",
    "    'bands': ['B4', 'B3', 'B2']\n",
    "}\n",
    "\n",
    "# Display the tile on the map\n",
    "Map = geemap.Map()\n",
    "Map.centerObject(image_tile, zoom=15)\n",
    "Map.addLayer(clipped_image, vis_params, 'Sentinel-2 RGB')\n",
    "Map.addLayer(image_tile, {}, 'Tile Boundary')\n",
    "\n",
    "Map"
   ]
  },
  {
   "cell_type": "code",
   "execution_count": null,
   "id": "5404cf6d-bc52-43b5-a070-a47db2780c3a",
   "metadata": {},
   "outputs": [],
   "source": []
  }
 ],
 "metadata": {
  "kernelspec": {
   "display_name": "SegmentWater",
   "language": "python",
   "name": "segmentwater"
  },
  "language_info": {
   "codemirror_mode": {
    "name": "ipython",
    "version": 3
   },
   "file_extension": ".py",
   "mimetype": "text/x-python",
   "name": "python",
   "nbconvert_exporter": "python",
   "pygments_lexer": "ipython3",
   "version": "3.11.6"
  }
 },
 "nbformat": 4,
 "nbformat_minor": 5
}
